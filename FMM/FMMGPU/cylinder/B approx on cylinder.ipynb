{
 "cells": [
  {
   "cell_type": "code",
   "execution_count": 1,
   "metadata": {},
   "outputs": [],
   "source": [
    "import numpy as np\n",
    "from scipy import integrate, interpolate"
   ]
  },
  {
   "cell_type": "code",
   "execution_count": 2,
   "metadata": {},
   "outputs": [],
   "source": [
    "data = np.loadtxt('ВнешнийЦилиндр.0', dtype=np.float64, skiprows=2, usecols=(1, 2, 3, 4, 5, 6))\n",
    "train_points = data[:, :3]\n",
    "train_B = data[:, 3:]\n",
    "data = np.loadtxt('Внутренний Цилиндр.0', dtype=np.float64, skiprows=2, usecols=(1, 2, 3, 4, 5, 6))\n",
    "test_points = data[:, :3]\n",
    "test_B = data[:, 3:]"
   ]
  },
  {
   "cell_type": "markdown",
   "metadata": {},
   "source": [
    "Calc RBF approx. from train points"
   ]
  },
  {
   "cell_type": "code",
   "execution_count": 3,
   "metadata": {},
   "outputs": [],
   "source": [
    "rbfB = interpolate.RBFInterpolator(train_points, train_B, kernel='linear', neighbors=9)"
   ]
  },
  {
   "cell_type": "markdown",
   "metadata": {},
   "source": [
    "Geometric algebra $\\mathbf B$ approx. is $\\mathbf B(r') = \\frac{1}{4\\pi} \\oint\\limits_S \\frac{r-r'}{|r-r'|^3} n \\mathbf B(r) dS$\n",
    "\n",
    "$\\mathbf B(r') = \\frac{1}{4\\pi} \\oint\\limits_S \\frac{r-r'}{|r-r'|^3} (\\mathbf B(r) \\cdot n) + \\frac{r-r'}{|r-r'|^3} \\times (\\mathbf B(r) \\times n) dS$\n"
   ]
  },
  {
   "cell_type": "code",
   "execution_count": 4,
   "metadata": {},
   "outputs": [],
   "source": [
    "def calc_B(r0, R, Zmin, Zmax, _B, epsabs=1e-3, epsrel=1e-4):\n",
    "    def kernel(r, n):\n",
    "        b = _B([r])[0]\n",
    "        dr = r - np.array(r0)\n",
    "        dr = dr / (4 * np.pi * np.linalg.norm(dr, axis=-1, keepdims=True) ** 3)\n",
    "        return np.concatenate([dr * np.sum(b * n, axis=-1, keepdims=True) + np.cross(dr, np.cross(b, n)), np.sum(dr * np.cross(b, n), axis=-1, keepdims=True)], axis=-1)\n",
    "    def internal(phi):\n",
    "        top, _ = integrate.quad_vec(lambda r: kernel([r * np.cos(phi), r * np.sin(phi), Zmax], [0, 0, 1]) * r, 0, R, epsabs=epsabs, epsrel=epsrel)\n",
    "        bottom, _ = integrate.quad_vec(lambda r: kernel([r * np.cos(phi), r * np.sin(phi), Zmin], [0, 0, -1]) * r, 0, R, epsabs=epsabs, epsrel=epsrel)\n",
    "        side, _ = integrate.quad_vec(lambda z: kernel([R * np.cos(phi), R * np.sin(phi), z], [np.cos(phi), np.sin(phi), 0]) * R, Zmin, Zmax, epsabs=epsabs, epsrel=epsrel)\n",
    "        return top + bottom + side\n",
    "    res, _ = integrate.quad_vec(internal, 0, 2*np.pi, epsabs=epsabs, epsrel=epsrel)\n",
    "    print(f'Internal approx. error is {res[3] / np.linalg.norm(res)}')\n",
    "    return res[:3]"
   ]
  },
  {
   "cell_type": "code",
   "execution_count": 5,
   "metadata": {},
   "outputs": [
    {
     "name": "stdout",
     "output_type": "stream",
     "text": [
      "Error of RBF interpolation of point [ 0.8  0.  -0.8] is 0.03286119410489847\n",
      "Internal approx. error is -3.0771375832755256e-08\n",
      "Error of approx from RBF of point [ 0.8  0.  -0.8] is 3.1633557732343294e-05\n",
      "Error of RBF interpolation of point [4.8985872e-17 8.0000000e-01 4.0000000e-01] is 0.02030303349494282\n",
      "Internal approx. error is -5.886682441061342e-08\n",
      "Error of approx from RBF of point [4.8985872e-17 8.0000000e-01 4.0000000e-01] is 2.3691336320788497e-05\n",
      "Error of RBF interpolation of point [-1.60000000e-01  1.95943488e-17 -1.00000000e+00] is 0.15293411839141235\n",
      "Internal approx. error is 6.034298090865882e-08\n",
      "Error of approx from RBF of point [-1.60000000e-01  1.95943488e-17 -1.00000000e+00] is 2.694872260245312e-05\n",
      "Error of RBF interpolation of point [-7.34788079e-17 -4.00000000e-01 -1.00000000e+00] is 0.16032199941072514\n",
      "Internal approx. error is 4.084770368599189e-08\n",
      "Error of approx from RBF of point [-7.34788079e-17 -4.00000000e-01 -1.00000000e+00] is 2.749939807197417e-05\n",
      "Error of RBF interpolation of point [ 0.68  0.   -1.  ] is 0.06412948754855025\n",
      "Internal approx. error is 1.2240724127509849e-06\n",
      "Error of approx from RBF of point [ 0.68  0.   -1.  ] is 3.2096903823300096e-05\n",
      "Error of RBF interpolation of point [7.34788079e-18 1.20000000e-01 1.00000000e+00] is 0.1523368498860943\n",
      "Internal approx. error is 2.4770134047884803e-08\n",
      "Error of approx from RBF of point [7.34788079e-18 1.20000000e-01 1.00000000e+00] is 2.7143184751047263e-05\n",
      "Error of RBF interpolation of point [-3.60000000e-01  4.40872848e-17  1.00000000e+00] is 0.15863753814817552\n",
      "Internal approx. error is -2.1593786391297722e-08\n",
      "Error of approx from RBF of point [-3.60000000e-01  4.40872848e-17  1.00000000e+00] is 2.6291973514402958e-05\n",
      "Error of RBF interpolation of point [-1.10218212e-16 -6.00000000e-01  1.00000000e+00] is 0.07791237858981329\n",
      "Internal approx. error is -4.366753024205435e-07\n",
      "Error of approx from RBF of point [-1.10218212e-16 -6.00000000e-01  1.00000000e+00] is 3.158975907700531e-05\n"
     ]
    }
   ],
   "source": [
    "def err(i, _B):\n",
    "    return np.linalg.norm(_B(test_points[i]) - test_B[i])/np.linalg.norm(test_B[i])\n",
    "for i in range(0, len(test_points), 200):\n",
    "    print(f'Error of RBF interpolation of point {test_points[i]} is {err(i, lambda r0: rbfB([r0])[0])}')\n",
    "    print(f'Error of approx from RBF of point {test_points[i]} is {err(i, lambda r0: calc_B(r0, 1, -1.5, 1.5, rbfB))}')"
   ]
  },
  {
   "cell_type": "code",
   "execution_count": null,
   "metadata": {},
   "outputs": [],
   "source": []
  }
 ],
 "metadata": {
  "interpreter": {
   "hash": "ad2bdc8ecc057115af97d19610ffacc2b4e99fae6737bb82f5d7fb13d2f2c186"
  },
  "kernelspec": {
   "display_name": "Python 3.9.12 ('base')",
   "language": "python",
   "name": "python3"
  },
  "language_info": {
   "codemirror_mode": {
    "name": "ipython",
    "version": 3
   },
   "file_extension": ".py",
   "mimetype": "text/x-python",
   "name": "python",
   "nbconvert_exporter": "python",
   "pygments_lexer": "ipython3",
   "version": "3.9.12"
  },
  "orig_nbformat": 4
 },
 "nbformat": 4,
 "nbformat_minor": 2
}
